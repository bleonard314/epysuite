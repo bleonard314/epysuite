{
 "cells": [
  {
   "cell_type": "markdown",
   "metadata": {},
   "source": [
    "# EPySuite Demo\n",
    "\n",
    "This notebook demonstrates the basic functionality of the EPySuite package.\n",
    "\n",
    "## Basic Usage\n",
    "\n",
    "First, let's import the necessary classes and create a runner instance. Then we can add a test case to the runner and run it for `Benzene`. By default EPI Suite™ will run STPWin to predict the removal of a chemical in a typical activated sludge-based sewage system using the BIOWIN model. The output will be a `Polars` dataframe with columns for each result. The snippet below shows the output for a few of the most relevant columns for the BIOWIN model."
   ]
  },
  {
   "cell_type": "code",
   "execution_count": 19,
   "metadata": {},
   "outputs": [
    {
     "data": {
      "text/html": [
       "<div><style>\n",
       ".dataframe > thead > tr,\n",
       ".dataframe > tbody > tr {\n",
       "  text-align: right;\n",
       "  white-space: pre-wrap;\n",
       "}\n",
       "</style>\n",
       "<small>shape: (1, 5)</small><table border=\"1\" class=\"dataframe\"><thead><tr><th>Chemical name</th><th>SMILES</th><th>Estimated Log Kow </th><th>Measured Log Kow  </th><th>STP Total Removal (%)</th></tr><tr><td>str</td><td>str</td><td>f64</td><td>f64</td><td>f64</td></tr></thead><tbody><tr><td>&quot;71-43-2&quot;</td><td>&quot;c1ccccc1&quot;</td><td>1.99</td><td>2.13</td><td>76.22</td></tr></tbody></table></div>"
      ],
      "text/plain": [
       "shape: (1, 5)\n",
       "┌───────────────┬──────────┬────────────────────┬────────────────────┬───────────────────────┐\n",
       "│ Chemical name ┆ SMILES   ┆ Estimated Log Kow  ┆ Measured Log Kow   ┆ STP Total Removal (%) │\n",
       "│ ---           ┆ ---      ┆ ---                ┆ ---                ┆ ---                   │\n",
       "│ str           ┆ str      ┆ f64                ┆ f64                ┆ f64                   │\n",
       "╞═══════════════╪══════════╪════════════════════╪════════════════════╪═══════════════════════╡\n",
       "│ 71-43-2       ┆ c1ccccc1 ┆ 1.99               ┆ 2.13               ┆ 76.22                 │\n",
       "└───────────────┴──────────┴────────────────────┴────────────────────┴───────────────────────┘"
      ]
     },
     "execution_count": 19,
     "metadata": {},
     "output_type": "execute_result"
    }
   ],
   "source": [
    "from epysuite import EPySuiteConfig, EPySuiteRunner\n",
    "\n",
    "# Initialize the runner with default configuration\n",
    "runner = EPySuiteRunner()\n",
    "\n",
    "# Get data for benzene\n",
    "results = runner.get_data(\n",
    "    cas_rn=\"71-43-2\",\n",
    "    smiles=\"c1ccccc1\",\n",
    ")\n",
    "\n",
    "# Show select columns from the results\n",
    "results['Chemical name', 'SMILES', 'Estimated Log Kow ', 'Measured Log Kow  ','STP Total Removal (%)']\n"
   ]
  },
  {
   "cell_type": "markdown",
   "metadata": {},
   "source": [
    "## Sewage Treatment Plant (STP) Batch Processing\n",
    "\n",
    "The `EPySuite` package also supports batch processing of multiple chemicals with or without SMILES. In the following example, several chemicals without SMILES are processed in a single batch using EPI Suite™ to lookup the SMILES for each chemical. The EPI Suite™ STP model predicts the fate of a chemical in a conventional activated sludge treatment plant. The model considers three main removal processes:\n",
    "\n",
    "1. **Biodegradation**: Microbial breakdown of the chemical\n",
    "2. **Sludge Adsorption**: Attachment of the chemical to solid particles that settle out\n",
    "3. **Volatilization**: Transfer of the chemical from water to air\n",
    "\n",
    "These results are displayed below for the selected chemicals."
   ]
  },
  {
   "cell_type": "code",
   "execution_count": 20,
   "metadata": {},
   "outputs": [
    {
     "data": {
      "text/html": [
       "<div>\n",
       "<style scoped>\n",
       "    .dataframe tbody tr th:only-of-type {\n",
       "        vertical-align: middle;\n",
       "    }\n",
       "\n",
       "    .dataframe tbody tr th {\n",
       "        vertical-align: top;\n",
       "    }\n",
       "\n",
       "    .dataframe thead th {\n",
       "        text-align: right;\n",
       "    }\n",
       "</style>\n",
       "<table border=\"1\" class=\"dataframe\">\n",
       "  <thead>\n",
       "    <tr style=\"text-align: right;\">\n",
       "      <th></th>\n",
       "      <th>Chemical</th>\n",
       "      <th>Biodegradation (%)</th>\n",
       "      <th>Sludge Adsorption (%)</th>\n",
       "      <th>Volatilization (%)</th>\n",
       "      <th>Remaining (%)</th>\n",
       "    </tr>\n",
       "  </thead>\n",
       "  <tbody>\n",
       "    <tr>\n",
       "      <th>0</th>\n",
       "      <td>Benzene</td>\n",
       "      <td>21.66</td>\n",
       "      <td>0.97</td>\n",
       "      <td>53.59</td>\n",
       "      <td>23.78</td>\n",
       "    </tr>\n",
       "    <tr>\n",
       "      <th>1</th>\n",
       "      <td>Acetone</td>\n",
       "      <td>91.46</td>\n",
       "      <td>0.33</td>\n",
       "      <td>0.31</td>\n",
       "      <td>7.90</td>\n",
       "    </tr>\n",
       "    <tr>\n",
       "      <th>2</th>\n",
       "      <td>Chloroform</td>\n",
       "      <td>10.25</td>\n",
       "      <td>1.07</td>\n",
       "      <td>52.85</td>\n",
       "      <td>35.83</td>\n",
       "    </tr>\n",
       "    <tr>\n",
       "      <th>3</th>\n",
       "      <td>Benzo[a]pyrene</td>\n",
       "      <td>25.83</td>\n",
       "      <td>71.21</td>\n",
       "      <td>0.00</td>\n",
       "      <td>2.96</td>\n",
       "    </tr>\n",
       "    <tr>\n",
       "      <th>4</th>\n",
       "      <td>Toluene</td>\n",
       "      <td>76.27</td>\n",
       "      <td>1.36</td>\n",
       "      <td>17.34</td>\n",
       "      <td>5.04</td>\n",
       "    </tr>\n",
       "  </tbody>\n",
       "</table>\n",
       "</div>"
      ],
      "text/plain": [
       "         Chemical  Biodegradation (%)  Sludge Adsorption (%)  \\\n",
       "0         Benzene               21.66                   0.97   \n",
       "1         Acetone               91.46                   0.33   \n",
       "2      Chloroform               10.25                   1.07   \n",
       "3  Benzo[a]pyrene               25.83                  71.21   \n",
       "4         Toluene               76.27                   1.36   \n",
       "\n",
       "   Volatilization (%)  Remaining (%)  \n",
       "0               53.59          23.78  \n",
       "1                0.31           7.90  \n",
       "2               52.85          35.83  \n",
       "3                0.00           2.96  \n",
       "4               17.34           5.04  "
      ]
     },
     "execution_count": 20,
     "metadata": {},
     "output_type": "execute_result"
    }
   ],
   "source": [
    "import pandas as pd\n",
    "\n",
    "# List of chemicals to analyze\n",
    "chemicals = [\n",
    "    (\"71-43-2\", \"Benzene\"),\n",
    "    (\"67-64-1\", \"Acetone\"),\n",
    "    (\"67-66-3\", \"Chloroform\"),\n",
    "    (\"50-32-8\", \"Benzo[a]pyrene\"),\n",
    "    (\"108-88-3\", \"Toluene\")\n",
    "]\n",
    "\n",
    "# Initialize runner\n",
    "runner = EPySuiteRunner()\n",
    "\n",
    "# Get data for all chemicals and store results\n",
    "all_results = []\n",
    "for cas, name in chemicals:\n",
    "    result = runner.get_data(cas_rn=cas)\n",
    "    all_results.append((name, result))\n",
    "\n",
    "# Create lists for plotting\n",
    "chemicals = []\n",
    "biodeg_values = []\n",
    "sludge_values = []\n",
    "vol_values = []\n",
    "remaining_values = []\n",
    "\n",
    "# Extract values for each chemical\n",
    "for name, result in all_results:\n",
    "    chemicals.append(name)\n",
    "    biodeg_values.append(result.select('STP Biodegradation (%)').item())\n",
    "    sludge_values.append(result.select('STP Sludge Adsorption (%)').item())\n",
    "    vol_values.append(result.select('STP Volatilization (%)').item())\n",
    "    total = result.select('STP Total Removal (%)').item()\n",
    "    remaining_values.append(100 - total)\n",
    "\n",
    "# Show table of results\n",
    "pd.DataFrame({\n",
    "    'Chemical': chemicals,\n",
    "    'Biodegradation (%)': biodeg_values,\n",
    "    'Sludge Adsorption (%)': sludge_values,\n",
    "    'Volatilization (%)': vol_values,\n",
    "    'Remaining (%)': remaining_values\n",
    "})"
   ]
  },
  {
   "cell_type": "markdown",
   "metadata": {},
   "source": [
    "## Additional Analyses and Data Visualization\n",
    "\n",
    "Additional analysis can be performed after running the model. For example, the results can be displayed in a plot to compare the relative STP removal rates for each chemical."
   ]
  },
  {
   "cell_type": "code",
   "execution_count": 23,
   "metadata": {},
   "outputs": [
    {
     "data": {
      "application/vnd.plotly.v1+json": {
       "config": {
        "plotlyServerURL": "https://plot.ly"
       },
       "data": [
        {
         "marker": {
          "color": "rgb(99, 110, 250)"
         },
         "name": "Biodegradation",
         "orientation": "h",
         "text": [
          "21.7%",
          "91.5%",
          "10.2%",
          "25.8%",
          "76.3%"
         ],
         "textposition": "inside",
         "type": "bar",
         "x": [
          21.66,
          91.46,
          10.25,
          25.83,
          76.27
         ],
         "y": [
          "Benzene",
          "Acetone",
          "Chloroform",
          "Benzo[a]pyrene",
          "Toluene"
         ]
        },
        {
         "marker": {
          "color": "rgb(239, 85, 59)"
         },
         "name": "Sludge Adsorption",
         "orientation": "h",
         "text": [
          "1.0%",
          "0.3%",
          "1.1%",
          "71.2%",
          "1.4%"
         ],
         "textposition": "inside",
         "type": "bar",
         "x": [
          0.97,
          0.33,
          1.07,
          71.21,
          1.36
         ],
         "y": [
          "Benzene",
          "Acetone",
          "Chloroform",
          "Benzo[a]pyrene",
          "Toluene"
         ]
        },
        {
         "marker": {
          "color": "rgb(0, 204, 150)"
         },
         "name": "Volatilization",
         "orientation": "h",
         "text": [
          "53.6%",
          "0.3%",
          "52.9%",
          "0.0%",
          "17.3%"
         ],
         "textposition": "inside",
         "type": "bar",
         "x": [
          53.59,
          0.31,
          52.85,
          0,
          17.34
         ],
         "y": [
          "Benzene",
          "Acetone",
          "Chloroform",
          "Benzo[a]pyrene",
          "Toluene"
         ]
        },
        {
         "marker": {
          "color": "rgb(200, 200, 200)"
         },
         "name": "Remaining in System",
         "orientation": "h",
         "text": [
          "23.8%",
          "7.9%",
          "35.8%",
          "3.0%",
          "5.0%"
         ],
         "textposition": "inside",
         "type": "bar",
         "x": [
          23.78,
          7.900000000000006,
          35.83,
          2.9599999999999937,
          5.040000000000006
         ],
         "y": [
          "Benzene",
          "Acetone",
          "Chloroform",
          "Benzo[a]pyrene",
          "Toluene"
         ]
        }
       ],
       "layout": {
        "barmode": "stack",
        "height": 400,
        "legend": {
         "orientation": "h",
         "x": 0.5,
         "xanchor": "center",
         "y": -0.5,
         "yanchor": "bottom"
        },
        "margin": {
         "b": 100
        },
        "showlegend": true,
        "template": {
         "data": {
          "bar": [
           {
            "error_x": {
             "color": "#2a3f5f"
            },
            "error_y": {
             "color": "#2a3f5f"
            },
            "marker": {
             "line": {
              "color": "#E5ECF6",
              "width": 0.5
             },
             "pattern": {
              "fillmode": "overlay",
              "size": 10,
              "solidity": 0.2
             }
            },
            "type": "bar"
           }
          ],
          "barpolar": [
           {
            "marker": {
             "line": {
              "color": "#E5ECF6",
              "width": 0.5
             },
             "pattern": {
              "fillmode": "overlay",
              "size": 10,
              "solidity": 0.2
             }
            },
            "type": "barpolar"
           }
          ],
          "carpet": [
           {
            "aaxis": {
             "endlinecolor": "#2a3f5f",
             "gridcolor": "white",
             "linecolor": "white",
             "minorgridcolor": "white",
             "startlinecolor": "#2a3f5f"
            },
            "baxis": {
             "endlinecolor": "#2a3f5f",
             "gridcolor": "white",
             "linecolor": "white",
             "minorgridcolor": "white",
             "startlinecolor": "#2a3f5f"
            },
            "type": "carpet"
           }
          ],
          "choropleth": [
           {
            "colorbar": {
             "outlinewidth": 0,
             "ticks": ""
            },
            "type": "choropleth"
           }
          ],
          "contour": [
           {
            "colorbar": {
             "outlinewidth": 0,
             "ticks": ""
            },
            "colorscale": [
             [
              0,
              "#0d0887"
             ],
             [
              0.1111111111111111,
              "#46039f"
             ],
             [
              0.2222222222222222,
              "#7201a8"
             ],
             [
              0.3333333333333333,
              "#9c179e"
             ],
             [
              0.4444444444444444,
              "#bd3786"
             ],
             [
              0.5555555555555556,
              "#d8576b"
             ],
             [
              0.6666666666666666,
              "#ed7953"
             ],
             [
              0.7777777777777778,
              "#fb9f3a"
             ],
             [
              0.8888888888888888,
              "#fdca26"
             ],
             [
              1,
              "#f0f921"
             ]
            ],
            "type": "contour"
           }
          ],
          "contourcarpet": [
           {
            "colorbar": {
             "outlinewidth": 0,
             "ticks": ""
            },
            "type": "contourcarpet"
           }
          ],
          "heatmap": [
           {
            "colorbar": {
             "outlinewidth": 0,
             "ticks": ""
            },
            "colorscale": [
             [
              0,
              "#0d0887"
             ],
             [
              0.1111111111111111,
              "#46039f"
             ],
             [
              0.2222222222222222,
              "#7201a8"
             ],
             [
              0.3333333333333333,
              "#9c179e"
             ],
             [
              0.4444444444444444,
              "#bd3786"
             ],
             [
              0.5555555555555556,
              "#d8576b"
             ],
             [
              0.6666666666666666,
              "#ed7953"
             ],
             [
              0.7777777777777778,
              "#fb9f3a"
             ],
             [
              0.8888888888888888,
              "#fdca26"
             ],
             [
              1,
              "#f0f921"
             ]
            ],
            "type": "heatmap"
           }
          ],
          "heatmapgl": [
           {
            "colorbar": {
             "outlinewidth": 0,
             "ticks": ""
            },
            "colorscale": [
             [
              0,
              "#0d0887"
             ],
             [
              0.1111111111111111,
              "#46039f"
             ],
             [
              0.2222222222222222,
              "#7201a8"
             ],
             [
              0.3333333333333333,
              "#9c179e"
             ],
             [
              0.4444444444444444,
              "#bd3786"
             ],
             [
              0.5555555555555556,
              "#d8576b"
             ],
             [
              0.6666666666666666,
              "#ed7953"
             ],
             [
              0.7777777777777778,
              "#fb9f3a"
             ],
             [
              0.8888888888888888,
              "#fdca26"
             ],
             [
              1,
              "#f0f921"
             ]
            ],
            "type": "heatmapgl"
           }
          ],
          "histogram": [
           {
            "marker": {
             "pattern": {
              "fillmode": "overlay",
              "size": 10,
              "solidity": 0.2
             }
            },
            "type": "histogram"
           }
          ],
          "histogram2d": [
           {
            "colorbar": {
             "outlinewidth": 0,
             "ticks": ""
            },
            "colorscale": [
             [
              0,
              "#0d0887"
             ],
             [
              0.1111111111111111,
              "#46039f"
             ],
             [
              0.2222222222222222,
              "#7201a8"
             ],
             [
              0.3333333333333333,
              "#9c179e"
             ],
             [
              0.4444444444444444,
              "#bd3786"
             ],
             [
              0.5555555555555556,
              "#d8576b"
             ],
             [
              0.6666666666666666,
              "#ed7953"
             ],
             [
              0.7777777777777778,
              "#fb9f3a"
             ],
             [
              0.8888888888888888,
              "#fdca26"
             ],
             [
              1,
              "#f0f921"
             ]
            ],
            "type": "histogram2d"
           }
          ],
          "histogram2dcontour": [
           {
            "colorbar": {
             "outlinewidth": 0,
             "ticks": ""
            },
            "colorscale": [
             [
              0,
              "#0d0887"
             ],
             [
              0.1111111111111111,
              "#46039f"
             ],
             [
              0.2222222222222222,
              "#7201a8"
             ],
             [
              0.3333333333333333,
              "#9c179e"
             ],
             [
              0.4444444444444444,
              "#bd3786"
             ],
             [
              0.5555555555555556,
              "#d8576b"
             ],
             [
              0.6666666666666666,
              "#ed7953"
             ],
             [
              0.7777777777777778,
              "#fb9f3a"
             ],
             [
              0.8888888888888888,
              "#fdca26"
             ],
             [
              1,
              "#f0f921"
             ]
            ],
            "type": "histogram2dcontour"
           }
          ],
          "mesh3d": [
           {
            "colorbar": {
             "outlinewidth": 0,
             "ticks": ""
            },
            "type": "mesh3d"
           }
          ],
          "parcoords": [
           {
            "line": {
             "colorbar": {
              "outlinewidth": 0,
              "ticks": ""
             }
            },
            "type": "parcoords"
           }
          ],
          "pie": [
           {
            "automargin": true,
            "type": "pie"
           }
          ],
          "scatter": [
           {
            "fillpattern": {
             "fillmode": "overlay",
             "size": 10,
             "solidity": 0.2
            },
            "type": "scatter"
           }
          ],
          "scatter3d": [
           {
            "line": {
             "colorbar": {
              "outlinewidth": 0,
              "ticks": ""
             }
            },
            "marker": {
             "colorbar": {
              "outlinewidth": 0,
              "ticks": ""
             }
            },
            "type": "scatter3d"
           }
          ],
          "scattercarpet": [
           {
            "marker": {
             "colorbar": {
              "outlinewidth": 0,
              "ticks": ""
             }
            },
            "type": "scattercarpet"
           }
          ],
          "scattergeo": [
           {
            "marker": {
             "colorbar": {
              "outlinewidth": 0,
              "ticks": ""
             }
            },
            "type": "scattergeo"
           }
          ],
          "scattergl": [
           {
            "marker": {
             "colorbar": {
              "outlinewidth": 0,
              "ticks": ""
             }
            },
            "type": "scattergl"
           }
          ],
          "scattermapbox": [
           {
            "marker": {
             "colorbar": {
              "outlinewidth": 0,
              "ticks": ""
             }
            },
            "type": "scattermapbox"
           }
          ],
          "scatterpolar": [
           {
            "marker": {
             "colorbar": {
              "outlinewidth": 0,
              "ticks": ""
             }
            },
            "type": "scatterpolar"
           }
          ],
          "scatterpolargl": [
           {
            "marker": {
             "colorbar": {
              "outlinewidth": 0,
              "ticks": ""
             }
            },
            "type": "scatterpolargl"
           }
          ],
          "scatterternary": [
           {
            "marker": {
             "colorbar": {
              "outlinewidth": 0,
              "ticks": ""
             }
            },
            "type": "scatterternary"
           }
          ],
          "surface": [
           {
            "colorbar": {
             "outlinewidth": 0,
             "ticks": ""
            },
            "colorscale": [
             [
              0,
              "#0d0887"
             ],
             [
              0.1111111111111111,
              "#46039f"
             ],
             [
              0.2222222222222222,
              "#7201a8"
             ],
             [
              0.3333333333333333,
              "#9c179e"
             ],
             [
              0.4444444444444444,
              "#bd3786"
             ],
             [
              0.5555555555555556,
              "#d8576b"
             ],
             [
              0.6666666666666666,
              "#ed7953"
             ],
             [
              0.7777777777777778,
              "#fb9f3a"
             ],
             [
              0.8888888888888888,
              "#fdca26"
             ],
             [
              1,
              "#f0f921"
             ]
            ],
            "type": "surface"
           }
          ],
          "table": [
           {
            "cells": {
             "fill": {
              "color": "#EBF0F8"
             },
             "line": {
              "color": "white"
             }
            },
            "header": {
             "fill": {
              "color": "#C8D4E3"
             },
             "line": {
              "color": "white"
             }
            },
            "type": "table"
           }
          ]
         },
         "layout": {
          "annotationdefaults": {
           "arrowcolor": "#2a3f5f",
           "arrowhead": 0,
           "arrowwidth": 1
          },
          "autotypenumbers": "strict",
          "coloraxis": {
           "colorbar": {
            "outlinewidth": 0,
            "ticks": ""
           }
          },
          "colorscale": {
           "diverging": [
            [
             0,
             "#8e0152"
            ],
            [
             0.1,
             "#c51b7d"
            ],
            [
             0.2,
             "#de77ae"
            ],
            [
             0.3,
             "#f1b6da"
            ],
            [
             0.4,
             "#fde0ef"
            ],
            [
             0.5,
             "#f7f7f7"
            ],
            [
             0.6,
             "#e6f5d0"
            ],
            [
             0.7,
             "#b8e186"
            ],
            [
             0.8,
             "#7fbc41"
            ],
            [
             0.9,
             "#4d9221"
            ],
            [
             1,
             "#276419"
            ]
           ],
           "sequential": [
            [
             0,
             "#0d0887"
            ],
            [
             0.1111111111111111,
             "#46039f"
            ],
            [
             0.2222222222222222,
             "#7201a8"
            ],
            [
             0.3333333333333333,
             "#9c179e"
            ],
            [
             0.4444444444444444,
             "#bd3786"
            ],
            [
             0.5555555555555556,
             "#d8576b"
            ],
            [
             0.6666666666666666,
             "#ed7953"
            ],
            [
             0.7777777777777778,
             "#fb9f3a"
            ],
            [
             0.8888888888888888,
             "#fdca26"
            ],
            [
             1,
             "#f0f921"
            ]
           ],
           "sequentialminus": [
            [
             0,
             "#0d0887"
            ],
            [
             0.1111111111111111,
             "#46039f"
            ],
            [
             0.2222222222222222,
             "#7201a8"
            ],
            [
             0.3333333333333333,
             "#9c179e"
            ],
            [
             0.4444444444444444,
             "#bd3786"
            ],
            [
             0.5555555555555556,
             "#d8576b"
            ],
            [
             0.6666666666666666,
             "#ed7953"
            ],
            [
             0.7777777777777778,
             "#fb9f3a"
            ],
            [
             0.8888888888888888,
             "#fdca26"
            ],
            [
             1,
             "#f0f921"
            ]
           ]
          },
          "colorway": [
           "#636efa",
           "#EF553B",
           "#00cc96",
           "#ab63fa",
           "#FFA15A",
           "#19d3f3",
           "#FF6692",
           "#B6E880",
           "#FF97FF",
           "#FECB52"
          ],
          "font": {
           "color": "#2a3f5f"
          },
          "geo": {
           "bgcolor": "white",
           "lakecolor": "white",
           "landcolor": "#E5ECF6",
           "showlakes": true,
           "showland": true,
           "subunitcolor": "white"
          },
          "hoverlabel": {
           "align": "left"
          },
          "hovermode": "closest",
          "mapbox": {
           "style": "light"
          },
          "paper_bgcolor": "white",
          "plot_bgcolor": "#E5ECF6",
          "polar": {
           "angularaxis": {
            "gridcolor": "white",
            "linecolor": "white",
            "ticks": ""
           },
           "bgcolor": "#E5ECF6",
           "radialaxis": {
            "gridcolor": "white",
            "linecolor": "white",
            "ticks": ""
           }
          },
          "scene": {
           "xaxis": {
            "backgroundcolor": "#E5ECF6",
            "gridcolor": "white",
            "gridwidth": 2,
            "linecolor": "white",
            "showbackground": true,
            "ticks": "",
            "zerolinecolor": "white"
           },
           "yaxis": {
            "backgroundcolor": "#E5ECF6",
            "gridcolor": "white",
            "gridwidth": 2,
            "linecolor": "white",
            "showbackground": true,
            "ticks": "",
            "zerolinecolor": "white"
           },
           "zaxis": {
            "backgroundcolor": "#E5ECF6",
            "gridcolor": "white",
            "gridwidth": 2,
            "linecolor": "white",
            "showbackground": true,
            "ticks": "",
            "zerolinecolor": "white"
           }
          },
          "shapedefaults": {
           "line": {
            "color": "#2a3f5f"
           }
          },
          "ternary": {
           "aaxis": {
            "gridcolor": "white",
            "linecolor": "white",
            "ticks": ""
           },
           "baxis": {
            "gridcolor": "white",
            "linecolor": "white",
            "ticks": ""
           },
           "bgcolor": "#E5ECF6",
           "caxis": {
            "gridcolor": "white",
            "linecolor": "white",
            "ticks": ""
           }
          },
          "title": {
           "x": 0.05
          },
          "xaxis": {
           "automargin": true,
           "gridcolor": "white",
           "linecolor": "white",
           "ticks": "",
           "title": {
            "standoff": 15
           },
           "zerolinecolor": "white",
           "zerolinewidth": 2
          },
          "yaxis": {
           "automargin": true,
           "gridcolor": "white",
           "linecolor": "white",
           "ticks": "",
           "title": {
            "standoff": 15
           },
           "zerolinecolor": "white",
           "zerolinewidth": 2
          }
         }
        },
        "title": {
         "text": "Comparison of Chemical Fate in Sewage Treatment Plants"
        },
        "width": 900,
        "xaxis": {
         "range": [
          0,
          100
         ],
         "title": {
          "text": "Percentage"
         }
        }
       }
      }
     },
     "metadata": {},
     "output_type": "display_data"
    }
   ],
   "source": [
    "import plotly.graph_objects as go\n",
    "\n",
    "# Create stacked bar chart\n",
    "fig = go.Figure()\n",
    "\n",
    "# Add bars for each process\n",
    "fig.add_trace(go.Bar(\n",
    "    y=chemicals,\n",
    "    x=biodeg_values,\n",
    "    name='Biodegradation',\n",
    "    orientation='h',\n",
    "    marker_color='rgb(99, 110, 250)',\n",
    "    text=[f\"{x:.1f}%\" for x in biodeg_values],\n",
    "    textposition='inside'\n",
    "))\n",
    "\n",
    "fig.add_trace(go.Bar(\n",
    "    y=chemicals,\n",
    "    x=sludge_values,\n",
    "    name='Sludge Adsorption',\n",
    "    orientation='h',\n",
    "    marker_color='rgb(239, 85, 59)',\n",
    "    text=[f\"{x:.1f}%\" for x in sludge_values],\n",
    "    textposition='inside'\n",
    "))\n",
    "\n",
    "fig.add_trace(go.Bar(\n",
    "    y=chemicals,\n",
    "    x=vol_values,\n",
    "    name='Volatilization',\n",
    "    orientation='h',\n",
    "    marker_color='rgb(0, 204, 150)',\n",
    "    text=[f\"{x:.1f}%\" for x in vol_values],\n",
    "    textposition='inside'\n",
    "))\n",
    "\n",
    "fig.add_trace(go.Bar(\n",
    "    y=chemicals,\n",
    "    x=remaining_values,\n",
    "    name='Remaining in System',\n",
    "    orientation='h',\n",
    "    marker_color='rgb(200, 200, 200)',\n",
    "    text=[f\"{x:.1f}%\" for x in remaining_values],\n",
    "    textposition='inside'\n",
    "))\n",
    "\n",
    "# Update layout\n",
    "fig.update_layout(\n",
    "    title='Comparison of Chemical Fate in Sewage Treatment Plants',\n",
    "    barmode='stack',\n",
    "    showlegend=True,\n",
    "    xaxis_title='Percentage',\n",
    "    width=900,\n",
    "    height=400,\n",
    "    xaxis=dict(range=[0, 100]),\n",
    "    legend=dict(\n",
    "        orientation=\"h\",\n",
    "        yanchor=\"bottom\",\n",
    "        y=-0.5,\n",
    "        xanchor=\"center\",\n",
    "        x=0.5\n",
    "    ),\n",
    "    margin=dict(b=100)  # Add more bottom margin for legend\n",
    ")\n",
    "\n",
    "# Show the figure\n",
    "fig.show()"
   ]
  }
 ],
 "metadata": {
  "kernelspec": {
   "display_name": ".venv",
   "language": "python",
   "name": "python3"
  },
  "language_info": {
   "codemirror_mode": {
    "name": "ipython",
    "version": 3
   },
   "file_extension": ".py",
   "mimetype": "text/x-python",
   "name": "python",
   "nbconvert_exporter": "python",
   "pygments_lexer": "ipython3",
   "version": "3.12.1"
  }
 },
 "nbformat": 4,
 "nbformat_minor": 2
}
